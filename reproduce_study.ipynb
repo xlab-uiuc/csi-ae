{
  "metadata": {
    "language_info": {
      "codemirror_mode": {
        "name": "python",
        "version": 3
      },
      "file_extension": ".py",
      "mimetype": "text/x-python",
      "name": "python",
      "nbconvert_exporter": "python",
      "pygments_lexer": "ipython3",
      "version": "3.8"
    },
    "kernelspec": {
      "name": "python",
      "display_name": "Python (Pyodide)",
      "language": "python"
    }
  },
  "nbformat_minor": 4,
  "nbformat": 4,
  "cells": [
    {
      "cell_type": "code",
      "source": "from collections import defaultdict\nimport pandas as pd\nimport math\ndf = pd.read_csv(\"csi_failure_dataset_open_source_systems.csv\")\ndf = df.fillna('')",
      "metadata": {
        "trusted": true
      },
      "execution_count": 51,
      "outputs": []
    },
    {
      "cell_type": "markdown",
      "source": "## Section 4: Table 1",
      "metadata": {}
    },
    {
      "cell_type": "code",
      "source": "upstream_systems = list(df['Upstream System'])\ndownstream_systems = list(df['Downstream System'])\ndic = defaultdict(int)\nfor systems in list(zip(upstream_systems, downstream_systems)):\n    dic[systems[0] + \"_\" + systems[1]] += 1\nsystem_order = [[\"Spark\", \"Hive\"], [\"Spark\", \"YARN\"], [\"Spark\", \"HDFS\"], [\"Spark\", \"Kafka\"],\n                [\"Flink\", \"Kafka\"], [\"Flink\", \"YARN\"], [\"Flink\", \"Hive\"], [\"Flink\", \"HDFS\"],\n               [\"Hive\", \"Spark\"], [\"Hive\", \"HBase\"], [\"Hive\", \"HDFS\"], [\"Hive\", \"Kafka\"], [\"Hive\", \"YARN\"],\n               [\"HBase\", \"HDFS\"], [\"YARN\", \"HDFS\"]]\nupstream_sys_col = list()\ndownstream_sys_col = list()\nfreq_col = list()\nfor systems in system_order:\n    upstream_sys_col.append(systems[0])\n    downstream_sys_col.append(systems[1])\n    freq_col.append(dic[systems[0] + \"_\" + systems[1]])\ntable = pd.DataFrame([upstream_sys_col, downstream_sys_col, freq_col]).transpose()\ntable.columns = ['Upstream', 'Downstream','# CSI Failures']\ntable",
      "metadata": {
        "tags": [],
        "trusted": true
      },
      "execution_count": 61,
      "outputs": [
        {
          "execution_count": 61,
          "output_type": "execute_result",
          "data": {
            "text/plain": "   Upstream Downstream # CSI Failures\n0     Spark       Hive             26\n1     Spark       YARN             19\n2     Spark       HDFS              8\n3     Spark      Kafka              5\n4     Flink      Kafka             12\n5     Flink       YARN             14\n6     Flink       Hive              8\n7     Flink       HDFS              3\n8      Hive      Spark              6\n9      Hive      HBase              3\n10     Hive       HDFS              6\n11     Hive      Kafka              1\n12     Hive       YARN              2\n13    HBase       HDFS              4\n14     YARN       HDFS              3",
            "text/html": "<div>\n<style scoped>\n    .dataframe tbody tr th:only-of-type {\n        vertical-align: middle;\n    }\n\n    .dataframe tbody tr th {\n        vertical-align: top;\n    }\n\n    .dataframe thead th {\n        text-align: right;\n    }\n</style>\n<table border=\"1\" class=\"dataframe\">\n  <thead>\n    <tr style=\"text-align: right;\">\n      <th></th>\n      <th>Upstream</th>\n      <th>Downstream</th>\n      <th># CSI Failures</th>\n    </tr>\n  </thead>\n  <tbody>\n    <tr>\n      <th>0</th>\n      <td>Spark</td>\n      <td>Hive</td>\n      <td>26</td>\n    </tr>\n    <tr>\n      <th>1</th>\n      <td>Spark</td>\n      <td>YARN</td>\n      <td>19</td>\n    </tr>\n    <tr>\n      <th>2</th>\n      <td>Spark</td>\n      <td>HDFS</td>\n      <td>8</td>\n    </tr>\n    <tr>\n      <th>3</th>\n      <td>Spark</td>\n      <td>Kafka</td>\n      <td>5</td>\n    </tr>\n    <tr>\n      <th>4</th>\n      <td>Flink</td>\n      <td>Kafka</td>\n      <td>12</td>\n    </tr>\n    <tr>\n      <th>5</th>\n      <td>Flink</td>\n      <td>YARN</td>\n      <td>14</td>\n    </tr>\n    <tr>\n      <th>6</th>\n      <td>Flink</td>\n      <td>Hive</td>\n      <td>8</td>\n    </tr>\n    <tr>\n      <th>7</th>\n      <td>Flink</td>\n      <td>HDFS</td>\n      <td>3</td>\n    </tr>\n    <tr>\n      <th>8</th>\n      <td>Hive</td>\n      <td>Spark</td>\n      <td>6</td>\n    </tr>\n    <tr>\n      <th>9</th>\n      <td>Hive</td>\n      <td>HBase</td>\n      <td>3</td>\n    </tr>\n    <tr>\n      <th>10</th>\n      <td>Hive</td>\n      <td>HDFS</td>\n      <td>6</td>\n    </tr>\n    <tr>\n      <th>11</th>\n      <td>Hive</td>\n      <td>Kafka</td>\n      <td>1</td>\n    </tr>\n    <tr>\n      <th>12</th>\n      <td>Hive</td>\n      <td>YARN</td>\n      <td>2</td>\n    </tr>\n    <tr>\n      <th>13</th>\n      <td>HBase</td>\n      <td>HDFS</td>\n      <td>4</td>\n    </tr>\n    <tr>\n      <th>14</th>\n      <td>YARN</td>\n      <td>HDFS</td>\n      <td>3</td>\n    </tr>\n  </tbody>\n</table>\n</div>"
          },
          "metadata": {}
        }
      ]
    },
    {
      "cell_type": "markdown",
      "source": "## Section 5: Table 2",
      "metadata": {}
    },
    {
      "cell_type": "code",
      "source": "issues =  list(df['Failure Plane'])\ntotal_issues = len(issues)\ncount = pd.Series(issues).value_counts()\nplanes = [\"Control\", \"Data\", \"Management\"]\nvals = [count[plane] for plane in cols]\npercentages = [str(round(count[plane]/total_issues * 100, 2)) + \"%\" for plane in cols]\ntable = pd.DataFrame([planes, vals, percentages]).transpose()\ntable.columns = ['Plane', '# Failures','Percentage']\ntable",
      "metadata": {
        "trusted": true
      },
      "execution_count": 63,
      "outputs": [
        {
          "execution_count": 63,
          "output_type": "execute_result",
          "data": {
            "text/plain": "        Plane # Failures Percentage\n0     Control         20     16.67%\n1        Data         61     50.83%\n2  Management         39      32.5%",
            "text/html": "<div>\n<style scoped>\n    .dataframe tbody tr th:only-of-type {\n        vertical-align: middle;\n    }\n\n    .dataframe tbody tr th {\n        vertical-align: top;\n    }\n\n    .dataframe thead th {\n        text-align: right;\n    }\n</style>\n<table border=\"1\" class=\"dataframe\">\n  <thead>\n    <tr style=\"text-align: right;\">\n      <th></th>\n      <th>Plane</th>\n      <th># Failures</th>\n      <th>Percentage</th>\n    </tr>\n  </thead>\n  <tbody>\n    <tr>\n      <th>0</th>\n      <td>Control</td>\n      <td>20</td>\n      <td>16.67%</td>\n    </tr>\n    <tr>\n      <th>1</th>\n      <td>Data</td>\n      <td>61</td>\n      <td>50.83%</td>\n    </tr>\n    <tr>\n      <th>2</th>\n      <td>Management</td>\n      <td>39</td>\n      <td>32.5%</td>\n    </tr>\n  </tbody>\n</table>\n</div>"
          },
          "metadata": {}
        }
      ]
    },
    {
      "cell_type": "markdown",
      "source": "## Section 5: Table 3",
      "metadata": {}
    },
    {
      "cell_type": "code",
      "source": "planes =  list(df['Failure Plane'])\nconsequences = list(df['Failure Consequence'])\nplane_to_consequences = defaultdict(lambda: defaultdict(int))\nfor plane_and_conseq in list(zip(planes, consequences)):\n    plane_to_consequences[plane_and_conseq[0]][plane_and_conseq[1].strip()] += 1\nprint(plane_to_consequences)\ncontrol_plane_rows = [\"Runtime crash/hang\", \"Startup failure\", \"Performance issue\", \"Data loss\", \"Unexpected Behaviour\"]\nfreq = list()\nfor consequence in control_plane_rows:\n    freq.append(plane_to_consequences[\"Control\"][consequence])\ncontrol_plane_table = pd.DataFrame([control_plane_rows, freq]).transpose()\ncontrol_plane_table.columns = ['Impact','#']\n\n\ndata_plane_rows = [\"Job/task failure\", \"Job/task startup failure\", \"Wrong results\", \"Performance issue\", \"Resource leak\", \"Usability\"]\nfreq = list()\nfor consequence in data_plane_rows:\n    freq.append(plane_to_consequences[\"Data\"][consequence])\ndata_plane_table = pd.DataFrame([data_plane_rows, freq]).transpose()\ndata_plane_table.columns = ['Impact','#']\n\n\nmanagement_plane_rows = [\"Job/task crash/hang\",\"Reduced observability\", \"Unexpected Behaviour\", \"Performance issue\"]\nfreq = list()\nfor consequence in management_plane_rows:\n    freq.append(plane_to_consequences[\"Management\"][consequence])\nmanagement_plane_table = pd.DataFrame([management_plane_rows, freq]).transpose()\nmanagement_plane_table.columns = ['Impact','#']\n",
      "metadata": {
        "trusted": true
      },
      "execution_count": 67,
      "outputs": [
        {
          "name": "stdout",
          "text": "defaultdict(<function <lambda> at 0x5483450>, {'Control': defaultdict(<class 'int'>, {'Runtime crash/hang': 8, 'Unexpected Behaviour': 3, 'Startup failure': 4, 'Performance issue': 3, 'Data loss': 2}), 'Data': defaultdict(<class 'int'>, {'Resource leak': 2, 'Job/task failure': 47, 'Performance issues': 2, 'Job/task startup failure': 6, 'Wrong results': 3, 'Usability': 1}), 'Management': defaultdict(<class 'int'>, {'Reduced observability': 8, 'Performance issue': 2, 'Job/task crash/hang': 24, 'Unexpected Behaviour': 5})})\n",
          "output_type": "stream"
        }
      ]
    },
    {
      "cell_type": "code",
      "source": "control_plane_table",
      "metadata": {
        "trusted": true
      },
      "execution_count": 68,
      "outputs": [
        {
          "execution_count": 68,
          "output_type": "execute_result",
          "data": {
            "text/plain": "                 Impact  #\n0    Runtime crash/hang  8\n1       Startup failure  4\n2     Performance issue  3\n3             Data loss  2\n4  Unexpected Behaviour  3",
            "text/html": "<div>\n<style scoped>\n    .dataframe tbody tr th:only-of-type {\n        vertical-align: middle;\n    }\n\n    .dataframe tbody tr th {\n        vertical-align: top;\n    }\n\n    .dataframe thead th {\n        text-align: right;\n    }\n</style>\n<table border=\"1\" class=\"dataframe\">\n  <thead>\n    <tr style=\"text-align: right;\">\n      <th></th>\n      <th>Impact</th>\n      <th>#</th>\n    </tr>\n  </thead>\n  <tbody>\n    <tr>\n      <th>0</th>\n      <td>Runtime crash/hang</td>\n      <td>8</td>\n    </tr>\n    <tr>\n      <th>1</th>\n      <td>Startup failure</td>\n      <td>4</td>\n    </tr>\n    <tr>\n      <th>2</th>\n      <td>Performance issue</td>\n      <td>3</td>\n    </tr>\n    <tr>\n      <th>3</th>\n      <td>Data loss</td>\n      <td>2</td>\n    </tr>\n    <tr>\n      <th>4</th>\n      <td>Unexpected Behaviour</td>\n      <td>3</td>\n    </tr>\n  </tbody>\n</table>\n</div>"
          },
          "metadata": {}
        }
      ]
    },
    {
      "cell_type": "code",
      "source": "data_plane_table",
      "metadata": {
        "trusted": true
      },
      "execution_count": 69,
      "outputs": [
        {
          "execution_count": 69,
          "output_type": "execute_result",
          "data": {
            "text/plain": "                     Impact   #\n0          Job/task failure  47\n1  Job/task startup failure   6\n2             Wrong results   3\n3         Performance issue   0\n4             Resource leak   2\n5                 Usability   1",
            "text/html": "<div>\n<style scoped>\n    .dataframe tbody tr th:only-of-type {\n        vertical-align: middle;\n    }\n\n    .dataframe tbody tr th {\n        vertical-align: top;\n    }\n\n    .dataframe thead th {\n        text-align: right;\n    }\n</style>\n<table border=\"1\" class=\"dataframe\">\n  <thead>\n    <tr style=\"text-align: right;\">\n      <th></th>\n      <th>Impact</th>\n      <th>#</th>\n    </tr>\n  </thead>\n  <tbody>\n    <tr>\n      <th>0</th>\n      <td>Job/task failure</td>\n      <td>47</td>\n    </tr>\n    <tr>\n      <th>1</th>\n      <td>Job/task startup failure</td>\n      <td>6</td>\n    </tr>\n    <tr>\n      <th>2</th>\n      <td>Wrong results</td>\n      <td>3</td>\n    </tr>\n    <tr>\n      <th>3</th>\n      <td>Performance issue</td>\n      <td>0</td>\n    </tr>\n    <tr>\n      <th>4</th>\n      <td>Resource leak</td>\n      <td>2</td>\n    </tr>\n    <tr>\n      <th>5</th>\n      <td>Usability</td>\n      <td>1</td>\n    </tr>\n  </tbody>\n</table>\n</div>"
          },
          "metadata": {}
        }
      ]
    },
    {
      "cell_type": "code",
      "source": "management_plane_table",
      "metadata": {
        "trusted": true
      },
      "execution_count": 70,
      "outputs": [
        {
          "execution_count": 70,
          "output_type": "execute_result",
          "data": {
            "text/plain": "                  Impact   #\n0    Job/task crash/hang  24\n1  Reduced observability   8\n2   Unexpected Behaviour   5\n3      Performance issue   2",
            "text/html": "<div>\n<style scoped>\n    .dataframe tbody tr th:only-of-type {\n        vertical-align: middle;\n    }\n\n    .dataframe tbody tr th {\n        vertical-align: top;\n    }\n\n    .dataframe thead th {\n        text-align: right;\n    }\n</style>\n<table border=\"1\" class=\"dataframe\">\n  <thead>\n    <tr style=\"text-align: right;\">\n      <th></th>\n      <th>Impact</th>\n      <th>#</th>\n    </tr>\n  </thead>\n  <tbody>\n    <tr>\n      <th>0</th>\n      <td>Job/task crash/hang</td>\n      <td>24</td>\n    </tr>\n    <tr>\n      <th>1</th>\n      <td>Reduced observability</td>\n      <td>8</td>\n    </tr>\n    <tr>\n      <th>2</th>\n      <td>Unexpected Behaviour</td>\n      <td>5</td>\n    </tr>\n    <tr>\n      <th>3</th>\n      <td>Performance issue</td>\n      <td>2</td>\n    </tr>\n  </tbody>\n</table>\n</div>"
          },
          "metadata": {}
        }
      ]
    },
    {
      "cell_type": "code",
      "source": "",
      "metadata": {},
      "execution_count": null,
      "outputs": []
    }
  ]
}