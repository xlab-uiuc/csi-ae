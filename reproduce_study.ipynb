{
  "metadata": {
    "language_info": {
      "codemirror_mode": {
        "name": "python",
        "version": 3
      },
      "file_extension": ".py",
      "mimetype": "text/x-python",
      "name": "python",
      "nbconvert_exporter": "python",
      "pygments_lexer": "ipython3",
      "version": "3.8"
    },
    "kernelspec": {
      "name": "python",
      "display_name": "Python (Pyodide)",
      "language": "python"
    }
  },
  "nbformat_minor": 4,
  "nbformat": 4,
  "cells": [
    {
      "cell_type": "code",
      "source": "from collections import defaultdict\nimport pandas as pd\nimport math\ndf = pd.read_csv(\"csi_failure_dataset_open_source_systems.csv\")\ndf = df.fillna('')",
      "metadata": {
        "trusted": true
      },
      "execution_count": null,
      "outputs": []
    },
    {
      "cell_type": "markdown",
      "source": "### Section 4:: Table 1: Target systems and the number of corresponding CSI failures studied in this paper",
      "metadata": {}
    },
    {
      "cell_type": "code",
      "source": "upstream_systems = list(df['Upstream System'])\ndownstream_systems = list(df['Downstream System'])\ntotal_issues = len(upstream_systems)\ndic = defaultdict(int)\nfor systems in list(zip(upstream_systems, downstream_systems)):\n    dic[systems[0] + \"_\" + systems[1]] += 1\nsystem_order = [[\"Spark\", \"Hive\"], [\"Spark\", \"YARN\"], [\"Spark\", \"HDFS\"], [\"Spark\", \"Kafka\"],\n                [\"Flink\", \"Kafka\"], [\"Flink\", \"YARN\"], [\"Flink\", \"Hive\"], [\"Flink\", \"HDFS\"],\n               [\"Hive\", \"Spark\"], [\"Hive\", \"HBase\"], [\"Hive\", \"HDFS\"], [\"Hive\", \"Kafka\"], [\"Hive\", \"YARN\"],\n               [\"HBase\", \"HDFS\"], [\"YARN\", \"HDFS\"]]\nupstream_sys_col = list()\ndownstream_sys_col = list()\nfreq_col = list()\nfor systems in system_order:\n    upstream_sys_col.append(systems[0])\n    downstream_sys_col.append(systems[1])\n    freq_col.append(dic[systems[0] + \"_\" + systems[1]])\ntable1 = pd.DataFrame([upstream_sys_col + [\"Total\"], downstream_sys_col + [\"\"], freq_col + [total_issues]]).transpose()\ntable1.columns = ['Upstream', 'Downstream','# CSI Failures']\ntable1",
      "metadata": {
        "tags": [],
        "trusted": true
      },
      "execution_count": null,
      "outputs": []
    },
    {
      "cell_type": "markdown",
      "source": "### Section 5:: Table 2: Categorization by failure planes",
      "metadata": {}
    },
    {
      "cell_type": "code",
      "source": "issues =  list(df['Failure Plane'])\ntotal_issues = len(issues)\ncount = pd.Series(issues).value_counts()\nplanes = [\"Control\", \"Data\", \"Management\"]\nvals = [count[plane] for plane in planes]\npercentages = [str(round(count[plane]/total_issues * 100, 2)) + \"%\" for plane in planes]\ntable2 = pd.DataFrame([planes + [\"Total\"], vals + [total_issues], percentages + [\"100%\"]]).transpose()\ntable2.columns = ['Plane', '# Failures','Percentage']\ntable2",
      "metadata": {
        "trusted": true
      },
      "execution_count": null,
      "outputs": []
    },
    {
      "cell_type": "markdown",
      "source": "### Section 5:: Finding 3: Most (89/120) CSI failures are manifested through crashing behavior",
      "metadata": {}
    },
    {
      "cell_type": "code",
      "source": "planes =  list(df['Failure Plane'])\nconsequences = list(df['Failure Consequence'])\nplane_to_consequences = defaultdict(lambda: defaultdict(int))\ncrashing_consequences = [\"Runtime crash/hang\", \"Startup failure\", \"Job/task failure\", \"Job/task startup failure\", \"Job/task crash/hang\"]\nnum_crashing_consequences = 0\nfor plane, consequence in list(zip(planes, consequences)):\n    plane_to_consequences[plane][consequence.strip()] += 1\n    if consequence in crashing_consequences:\n        num_crashing_consequences += 1\nprint(\"Number of CSI failures that manifest through crashing behaviour: %s\" % num_crashing_consequences)",
      "metadata": {
        "trusted": true
      },
      "execution_count": null,
      "outputs": []
    },
    {
      "cell_type": "markdown",
      "source": "### Section 5:: Table 3: Failure symptoms",
      "metadata": {}
    },
    {
      "cell_type": "code",
      "source": "control_plane_rows = [\"Runtime crash/hang\", \"Startup failure\", \"Performance issue\", \"Data loss\", \"Unexpected Behaviour\"]\nfreq = list()\nfor consequence in control_plane_rows:\n    freq.append(plane_to_consequences[\"Control\"][consequence])\ncontrol_plane_table = pd.DataFrame([control_plane_rows, freq]).transpose()\ncontrol_plane_table.columns = ['Impact','#']\ncontrol_plane_table",
      "metadata": {
        "trusted": true
      },
      "execution_count": null,
      "outputs": []
    },
    {
      "cell_type": "code",
      "source": "data_plane_rows = [\"Job/task failure\", \"Job/task startup failure\", \"Wrong results\", \"Performance issues\", \"Resource leak\", \"Usability\"]\nfreq = list()\nfor consequence in data_plane_rows:\n    freq.append(plane_to_consequences[\"Data\"][consequence])\ndata_plane_table = pd.DataFrame([data_plane_rows, freq]).transpose()\ndata_plane_table.columns = ['Impact','#']\ndata_plane_table",
      "metadata": {
        "trusted": true
      },
      "execution_count": null,
      "outputs": []
    },
    {
      "cell_type": "code",
      "source": "management_plane_rows = [\"Job/task crash/hang\",\"Reduced observability\", \"Unexpected Behaviour\", \"Performance issue\"]\nfreq = list()\nfor consequence in management_plane_rows:\n    freq.append(plane_to_consequences[\"Management\"][consequence])\nmanagement_plane_table = pd.DataFrame([management_plane_rows, freq]).transpose()\nmanagement_plane_table.columns = ['Impact','#']\n\nmanagement_plane_table",
      "metadata": {
        "trusted": true
      },
      "execution_count": null,
      "outputs": []
    },
    {
      "cell_type": "markdown",
      "source": "### Section 6:: Table 4: Data properties in which discrepancies of data-plane CSI failures are rooted",
      "metadata": {}
    },
    {
      "cell_type": "code",
      "source": "data_plane_abstraction = list(df['Data Plane: Abstraction'])\ndata_plane_properties = list(df['Data Plane: Properties'])\ntotal_data_plane = 0\nproperty_to_count = defaultdict(int)\nfor prop in data_plane_properties:\n    if prop:\n        total_data_plane += 1\n        property_to_count[prop] += 1\n\nproperty_rows = [\"Address\", \"Schema: Structure\", \"Schema: Value\", \"Custom Property\", \"API semantics\"]\nfreq = list()\nfor prop in property_rows:\n    freq.append(property_to_count[prop])\nproperty_rows.append(\"Total\")\nfreq.append(total_data_plane)\ntable4 = pd.DataFrame([property_rows, freq]).transpose()\ntable4.columns = ['Data Property', '#']\ntable4",
      "metadata": {
        "trusted": true
      },
      "execution_count": null,
      "outputs": []
    },
    {
      "cell_type": "markdown",
      "source": "### Finding 4: Discrepancies of data-plane CSI failures lie in many different data properties. The majority (50/61) of dataplane CSI failures are caused by metadata, namely typical metadata (42/61) such as addresses/names and data schemas, and custom metadata (8/61). The others (11/61) are caused by custom properties and API semantics. ",
      "metadata": {}
    },
    {
      "cell_type": "code",
      "source": "typical_metadata_props = [\"Address\", \"Schema: Structure\", \"Schema: Value\"]\ncustom_metadata_props = [\"Custom Property\"]\ntypical_metadata_total = 0\ncustom_metadata_total = 0\nfor prop in typical_metadata_props:\n    tyical_metadata_total += property_to_count[prop]\nfor prop in custom_metadata_props:\n    custom_metadata_total += property_to_count[prop]\nprint(\"CSI failures caused by typical metadata: %s\" % typical_metadata_props)\nprint(\"CSI failures caused by custom metadata: %s\" % custom_metadata_props)",
      "metadata": {
        "trusted": true
      },
      "execution_count": null,
      "outputs": []
    },
    {
      "cell_type": "markdown",
      "source": "### Section 6:: Table 5: Data abstractions in which discrepancies of data-plane CSI failures are rooted",
      "metadata": {}
    },
    {
      "cell_type": "code",
      "source": "property_rows = [\"Address\", \"Schema: Structure\", \"Schema: Value\", \"Custom Property\", \"API semantics\"]\nabstraction_to_properties = defaultdict(lambda: defaultdict(int))\nabstraction_to_count = defaultdict(int)\nfor abstraction, prop in list(zip(data_plane_abstraction, data_plane_properties)):\n    abstraction_to_properties[abstraction][prop] += 1\n    abstraction_to_count[abstraction] += 1\n\nabstractions = [\"Table\", \"File\", \"Stream\", \"KV Tuple\"]\ncols = list()\ncols.append(abstractions)\nfor _prop in property_rows:\n    col = list()\n    total = 0\n    for abstraction in abstractions:\n        _freq = abstraction_to_properties.get(abstraction, {}).get(_prop, 0)\n        col.append(_freq)\n        total += _freq\n    col.append(total)\n    cols.append(col)\ntotals_col = list()\nfor abstraction in abstractions:\n    totals_col.append(abstraction_to_count[abstraction])\ntotals_col.append(total_data_plane)\ncols.append(totals_col)\nproperty_rows.insert(0, \"Data Abstraction\")\nproperty_rows.append(\"Total\")\ncols[0].append(\"Total\")\ntable5 = pd.DataFrame(cols).transpose()\ntable5.columns = property_rows\ntable5",
      "metadata": {
        "trusted": true
      },
      "execution_count": null,
      "outputs": []
    },
    {
      "cell_type": "code",
      "source": "planes =  list(df['Failure Plane'])\ndiscrepancies = list(df['Discrepancy pattern type'])\ndiscrepancy_to_count = defaultdict(lambda: defaultdict(int))\nfor plane, discrepancy in list(zip(planes, discrepancies)):\n    discrepancy_to_count[plane][discrepancy] += 1",
      "metadata": {
        "trusted": true
      },
      "execution_count": null,
      "outputs": []
    },
    {
      "cell_type": "markdown",
      "source": "### Section 6:: Table 6: Data-Plane Discrepancy patterns",
      "metadata": {}
    },
    {
      "cell_type": "code",
      "source": "data_plane_discrepancy_rows = [\"Type Confusion\", \"Unsupported Operations\",\"Unspoken Convention\", \"Undefined Values\", \"Wrong API Assumptions\"]\nfreq = list()\ntotal_freq = 0\nfor discrepancy in data_plane_discrepancy_rows:\n    _freq = discrepancy_to_count[\"Data\"][discrepancy]\n    freq.append(_freq)\n    total_freq += _freq\ntable6 = pd.DataFrame([data_plane_discrepancy_rows + [\"Total\"], freq + [total_freq]]).transpose()\ntable6.columns = ['Discrepancy Pattern','#']\ntable6",
      "metadata": {
        "trusted": true
      },
      "execution_count": null,
      "outputs": []
    },
    {
      "cell_type": "markdown",
      "source": "### Section 6:: Table 7: Management-Plane Discrepancy patterns",
      "metadata": {}
    },
    {
      "cell_type": "code",
      "source": "management_plane_discrepancy_rows = [\"Ignorance\", \"Unexpected Override\", \"Inconsistent Context\", \"Mishandling Configuration Value\"]\nfreq = list()\ntotal_freq = 0\nfor discrepancy in management_plane_discrepancy_rows:\n    _freq = discrepancy_to_count[\"Management\"][discrepancy]\n    total_freq += _freq\n    freq.append(_freq)\ntable8 = pd.DataFrame([management_plane_discrepancy_rows + [\"Total\"], freq + [total_freq]]).transpose()\ntable8.columns = ['Discrepancy Pattern','#']\ntable8",
      "metadata": {
        "trusted": true
      },
      "execution_count": null,
      "outputs": []
    },
    {
      "cell_type": "markdown",
      "source": "### Section 6:: Table 8: Control-Plane Discrepancy patterns",
      "metadata": {}
    },
    {
      "cell_type": "code",
      "source": "control_plane_discrepancy_rows = [\"API Semantics Violation\", \"State/Resource Inconsistency\", \"Feature inconsistency\"]\nfreq = list()\ntotal_freq = 0\nfor discrepancy in control_plane_discrepancy_rows:\n    _freq = discrepancy_to_count[\"Control\"][discrepancy]\n    freq.append(_freq)\n    total_freq += _freq\ntable7 = pd.DataFrame([control_plane_discrepancy_rows + [\"Total\"], freq + [total_freq]]).transpose()\ntable7.columns = ['Discrepancy Pattern','#']\ntable7",
      "metadata": {
        "trusted": true
      },
      "execution_count": null,
      "outputs": []
    },
    {
      "cell_type": "markdown",
      "source": "### Section 7:: Table 9: Fix patterns of the evaluated CSI failures",
      "metadata": {}
    },
    {
      "cell_type": "code",
      "source": "fix_patterns = list(df['Fix: Pattern'])\ntable9_rows = [\"Checking\", \"Error handling\", \"Interaction\", \"Others\"]\nfix_pattern_to_count = defaultdict(int)\nfor pattern in fix_patterns:\n    fix_pattern_to_count[pattern] += 1\n\nfreq = list()\nfor pattern in table9_rows:\n    freq.append(fix_pattern_to_count[pattern])\n\ntable9 = pd.DataFrame([table9_rows + [\"Total\"], freq + [len(fix_patterns)]]).transpose()\ntable9.columns = ['Fix Pattern','#']\ntable9",
      "metadata": {
        "trusted": true
      },
      "execution_count": null,
      "outputs": []
    },
    {
      "cell_type": "markdown",
      "source": "### Finding 13: In 69% (79/115) CSI failures, fixes were applied to code in the upstream system specific to interaction with a downstream system. Furthermore, among these 79 cases, fixes for 68 (86%) cases resided in dedicated “connector” modules.",
      "metadata": {}
    },
    {
      "cell_type": "code",
      "source": "fix_locations = list(df['Fix: Location'])\nfix_location_to_count = defaultdict(int)\nfor location in fix_locations:\n    fix_location_to_count[location.strip()] += 1\ncode_specific_to_interaction_connector = fix_location_to_count[\"Code specific to downstream interaction: Connector\"]\ncode_specific_to_interaction_scattered = fix_location_to_count[\"Code specific to downstream interaction: Scattered\"]\ncode_specific_to_interaction = code_specific_to_interaction_connector + code_specific_to_interaction_scattered\nno_fix_or_documentation = fix_location_to_count[\"N.A.\"]\ntotal_fixes = len(fix_locations) - no_fix_or_documentation\nprint(\"Fixes applied to code in the upstream system specific to interaction \" \\\n      \"with a downstream system: %s (%s%%)\" % (code_specific_to_interaction, round(code_specific_to_interaction/total_fixes * 100, 2)))\nprint(\"Fixes applied to code in the upstream system \" \\\n      \"in dedicated 'connector' modules: %s (%s%%)\" % (code_specific_to_interaction_connector, round(code_specific_to_interaction_connector/total_fixes * 100, 2)))",
      "metadata": {
        "trusted": true
      },
      "execution_count": null,
      "outputs": []
    }
  ]
}