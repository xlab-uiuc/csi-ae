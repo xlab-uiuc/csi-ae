{
  "metadata": {
    "language_info": {
      "codemirror_mode": {
        "name": "python",
        "version": 3
      },
      "file_extension": ".py",
      "mimetype": "text/x-python",
      "name": "python",
      "nbconvert_exporter": "python",
      "pygments_lexer": "ipython3",
      "version": "3.8"
    },
    "kernelspec": {
      "name": "python",
      "display_name": "Python (Pyodide)",
      "language": "python"
    }
  },
  "nbformat_minor": 4,
  "nbformat": 4,
  "cells": [
    {
      "cell_type": "code",
      "source": "from collections import defaultdict\nimport pandas as pd\nimport math\ndf = pd.read_csv(\"csi_failure_dataset_open_source_systems.csv\")\ndf = df.fillna('')",
      "metadata": {
        "trusted": true
      },
      "execution_count": 1,
      "outputs": []
    },
    {
      "cell_type": "markdown",
      "source": "## Section 4: Table 1",
      "metadata": {}
    },
    {
      "cell_type": "code",
      "source": "upstream_systems = list(df['Upstream System'])\ndownstream_systems = list(df['Downstream System'])\ndic = defaultdict(int)\nfor systems in list(zip(upstream_systems, downstream_systems)):\n    dic[systems[0] + \"_\" + systems[1]] += 1\nsystem_order = [[\"Spark\", \"Hive\"], [\"Spark\", \"YARN\"], [\"Spark\", \"HDFS\"], [\"Spark\", \"Kafka\"],\n                [\"Flink\", \"Kafka\"], [\"Flink\", \"YARN\"], [\"Flink\", \"Hive\"], [\"Flink\", \"HDFS\"],\n               [\"Hive\", \"Spark\"], [\"Hive\", \"HBase\"], [\"Hive\", \"HDFS\"], [\"Hive\", \"Kafka\"], [\"Hive\", \"YARN\"],\n               [\"HBase\", \"HDFS\"], [\"YARN\", \"HDFS\"]]\nupstream_sys_col = list()\ndownstream_sys_col = list()\nfreq_col = list()\nfor systems in system_order:\n    upstream_sys_col.append(systems[0])\n    downstream_sys_col.append(systems[1])\n    freq_col.append(dic[systems[0] + \"_\" + systems[1]])\ntable1 = pd.DataFrame([upstream_sys_col, downstream_sys_col, freq_col]).transpose()\ntable1.columns = ['Upstream', 'Downstream','# CSI Failures']\ntable1",
      "metadata": {
        "tags": [],
        "trusted": true
      },
      "execution_count": 2,
      "outputs": [
        {
          "execution_count": 2,
          "output_type": "execute_result",
          "data": {
            "text/plain": "   Upstream Downstream # CSI Failures\n0     Spark       Hive             26\n1     Spark       YARN             19\n2     Spark       HDFS              8\n3     Spark      Kafka              5\n4     Flink      Kafka             12\n5     Flink       YARN             14\n6     Flink       Hive              8\n7     Flink       HDFS              3\n8      Hive      Spark              6\n9      Hive      HBase              3\n10     Hive       HDFS              6\n11     Hive      Kafka              1\n12     Hive       YARN              2\n13    HBase       HDFS              4\n14     YARN       HDFS              3",
            "text/html": "<div>\n<style scoped>\n    .dataframe tbody tr th:only-of-type {\n        vertical-align: middle;\n    }\n\n    .dataframe tbody tr th {\n        vertical-align: top;\n    }\n\n    .dataframe thead th {\n        text-align: right;\n    }\n</style>\n<table border=\"1\" class=\"dataframe\">\n  <thead>\n    <tr style=\"text-align: right;\">\n      <th></th>\n      <th>Upstream</th>\n      <th>Downstream</th>\n      <th># CSI Failures</th>\n    </tr>\n  </thead>\n  <tbody>\n    <tr>\n      <th>0</th>\n      <td>Spark</td>\n      <td>Hive</td>\n      <td>26</td>\n    </tr>\n    <tr>\n      <th>1</th>\n      <td>Spark</td>\n      <td>YARN</td>\n      <td>19</td>\n    </tr>\n    <tr>\n      <th>2</th>\n      <td>Spark</td>\n      <td>HDFS</td>\n      <td>8</td>\n    </tr>\n    <tr>\n      <th>3</th>\n      <td>Spark</td>\n      <td>Kafka</td>\n      <td>5</td>\n    </tr>\n    <tr>\n      <th>4</th>\n      <td>Flink</td>\n      <td>Kafka</td>\n      <td>12</td>\n    </tr>\n    <tr>\n      <th>5</th>\n      <td>Flink</td>\n      <td>YARN</td>\n      <td>14</td>\n    </tr>\n    <tr>\n      <th>6</th>\n      <td>Flink</td>\n      <td>Hive</td>\n      <td>8</td>\n    </tr>\n    <tr>\n      <th>7</th>\n      <td>Flink</td>\n      <td>HDFS</td>\n      <td>3</td>\n    </tr>\n    <tr>\n      <th>8</th>\n      <td>Hive</td>\n      <td>Spark</td>\n      <td>6</td>\n    </tr>\n    <tr>\n      <th>9</th>\n      <td>Hive</td>\n      <td>HBase</td>\n      <td>3</td>\n    </tr>\n    <tr>\n      <th>10</th>\n      <td>Hive</td>\n      <td>HDFS</td>\n      <td>6</td>\n    </tr>\n    <tr>\n      <th>11</th>\n      <td>Hive</td>\n      <td>Kafka</td>\n      <td>1</td>\n    </tr>\n    <tr>\n      <th>12</th>\n      <td>Hive</td>\n      <td>YARN</td>\n      <td>2</td>\n    </tr>\n    <tr>\n      <th>13</th>\n      <td>HBase</td>\n      <td>HDFS</td>\n      <td>4</td>\n    </tr>\n    <tr>\n      <th>14</th>\n      <td>YARN</td>\n      <td>HDFS</td>\n      <td>3</td>\n    </tr>\n  </tbody>\n</table>\n</div>"
          },
          "metadata": {}
        }
      ]
    },
    {
      "cell_type": "markdown",
      "source": "## Section 5: Table 2",
      "metadata": {}
    },
    {
      "cell_type": "code",
      "source": "issues =  list(df['Failure Plane'])\ntotal_issues = len(issues)\ncount = pd.Series(issues).value_counts()\nplanes = [\"Control\", \"Data\", \"Management\"]\nvals = [count[plane] for plane in planes]\npercentages = [str(round(count[plane]/total_issues * 100, 2)) + \"%\" for plane in planes]\ntable2 = pd.DataFrame([planes, vals, percentages]).transpose()\ntable2.columns = ['Plane', '# Failures','Percentage']\ntable2",
      "metadata": {
        "trusted": true
      },
      "execution_count": 3,
      "outputs": [
        {
          "execution_count": 3,
          "output_type": "execute_result",
          "data": {
            "text/plain": "        Plane # Failures Percentage\n0     Control         20     16.67%\n1        Data         61     50.83%\n2  Management         39      32.5%",
            "text/html": "<div>\n<style scoped>\n    .dataframe tbody tr th:only-of-type {\n        vertical-align: middle;\n    }\n\n    .dataframe tbody tr th {\n        vertical-align: top;\n    }\n\n    .dataframe thead th {\n        text-align: right;\n    }\n</style>\n<table border=\"1\" class=\"dataframe\">\n  <thead>\n    <tr style=\"text-align: right;\">\n      <th></th>\n      <th>Plane</th>\n      <th># Failures</th>\n      <th>Percentage</th>\n    </tr>\n  </thead>\n  <tbody>\n    <tr>\n      <th>0</th>\n      <td>Control</td>\n      <td>20</td>\n      <td>16.67%</td>\n    </tr>\n    <tr>\n      <th>1</th>\n      <td>Data</td>\n      <td>61</td>\n      <td>50.83%</td>\n    </tr>\n    <tr>\n      <th>2</th>\n      <td>Management</td>\n      <td>39</td>\n      <td>32.5%</td>\n    </tr>\n  </tbody>\n</table>\n</div>"
          },
          "metadata": {}
        }
      ]
    },
    {
      "cell_type": "markdown",
      "source": "## Section 5:: Finding 3: Most (89/120) CSI failures are manifested through crashing behavior",
      "metadata": {}
    },
    {
      "cell_type": "code",
      "source": "planes =  list(df['Failure Plane'])\nconsequences = list(df['Failure Consequence'])\nplane_to_consequences = defaultdict(lambda: defaultdict(int))\ncrashing_consequences = [\"Runtime crash/hang\", \"Startup failure\", \"Job/task failure\", \"Job/task startup failure\", \"Job/task crash/hang\"]\nnum_crashing_consequences = 0\nfor plane, consequence in list(zip(planes, consequences)):\n    plane_to_consequences[plane][consequence.strip()] += 1\n    if consequence in crashing_consequences:\n        num_crashing_consequences += 1\nprint(\"Number of CSI failures that manifest through crashing behaviour: %s\" % num_crashing_consequences)",
      "metadata": {
        "trusted": true
      },
      "execution_count": 4,
      "outputs": []
    },
    {
      "cell_type": "markdown",
      "source": "## Section 5: Table 3",
      "metadata": {}
    },
    {
      "cell_type": "code",
      "source": "control_plane_rows = [\"Runtime crash/hang\", \"Startup failure\", \"Performance issue\", \"Data loss\", \"Unexpected Behaviour\"]\nfreq = list()\nfor consequence in control_plane_rows:\n    freq.append(plane_to_consequences[\"Control\"][consequence])\ncontrol_plane_table = pd.DataFrame([control_plane_rows, freq]).transpose()\ncontrol_plane_table.columns = ['Impact','#']\ncontrol_plane_table",
      "metadata": {
        "trusted": true
      },
      "execution_count": 6,
      "outputs": [
        {
          "execution_count": 6,
          "output_type": "execute_result",
          "data": {
            "text/plain": "                 Impact  #\n0    Runtime crash/hang  8\n1       Startup failure  4\n2     Performance issue  3\n3             Data loss  2\n4  Unexpected Behaviour  3",
            "text/html": "<div>\n<style scoped>\n    .dataframe tbody tr th:only-of-type {\n        vertical-align: middle;\n    }\n\n    .dataframe tbody tr th {\n        vertical-align: top;\n    }\n\n    .dataframe thead th {\n        text-align: right;\n    }\n</style>\n<table border=\"1\" class=\"dataframe\">\n  <thead>\n    <tr style=\"text-align: right;\">\n      <th></th>\n      <th>Impact</th>\n      <th>#</th>\n    </tr>\n  </thead>\n  <tbody>\n    <tr>\n      <th>0</th>\n      <td>Runtime crash/hang</td>\n      <td>8</td>\n    </tr>\n    <tr>\n      <th>1</th>\n      <td>Startup failure</td>\n      <td>4</td>\n    </tr>\n    <tr>\n      <th>2</th>\n      <td>Performance issue</td>\n      <td>3</td>\n    </tr>\n    <tr>\n      <th>3</th>\n      <td>Data loss</td>\n      <td>2</td>\n    </tr>\n    <tr>\n      <th>4</th>\n      <td>Unexpected Behaviour</td>\n      <td>3</td>\n    </tr>\n  </tbody>\n</table>\n</div>"
          },
          "metadata": {}
        }
      ]
    },
    {
      "cell_type": "code",
      "source": "data_plane_rows = [\"Job/task failure\", \"Job/task startup failure\", \"Wrong results\", \"Performance issues\", \"Resource leak\", \"Usability\"]\nfreq = list()\nfor consequence in data_plane_rows:\n    freq.append(plane_to_consequences[\"Data\"][consequence])\ndata_plane_table = pd.DataFrame([data_plane_rows, freq]).transpose()\ndata_plane_table.columns = ['Impact','#']\ndata_plane_table",
      "metadata": {
        "trusted": true
      },
      "execution_count": 7,
      "outputs": [
        {
          "execution_count": 7,
          "output_type": "execute_result",
          "data": {
            "text/plain": "                     Impact   #\n0          Job/task failure  47\n1  Job/task startup failure   6\n2             Wrong results   3\n3        Performance issues   2\n4             Resource leak   2\n5                 Usability   1",
            "text/html": "<div>\n<style scoped>\n    .dataframe tbody tr th:only-of-type {\n        vertical-align: middle;\n    }\n\n    .dataframe tbody tr th {\n        vertical-align: top;\n    }\n\n    .dataframe thead th {\n        text-align: right;\n    }\n</style>\n<table border=\"1\" class=\"dataframe\">\n  <thead>\n    <tr style=\"text-align: right;\">\n      <th></th>\n      <th>Impact</th>\n      <th>#</th>\n    </tr>\n  </thead>\n  <tbody>\n    <tr>\n      <th>0</th>\n      <td>Job/task failure</td>\n      <td>47</td>\n    </tr>\n    <tr>\n      <th>1</th>\n      <td>Job/task startup failure</td>\n      <td>6</td>\n    </tr>\n    <tr>\n      <th>2</th>\n      <td>Wrong results</td>\n      <td>3</td>\n    </tr>\n    <tr>\n      <th>3</th>\n      <td>Performance issues</td>\n      <td>2</td>\n    </tr>\n    <tr>\n      <th>4</th>\n      <td>Resource leak</td>\n      <td>2</td>\n    </tr>\n    <tr>\n      <th>5</th>\n      <td>Usability</td>\n      <td>1</td>\n    </tr>\n  </tbody>\n</table>\n</div>"
          },
          "metadata": {}
        }
      ]
    },
    {
      "cell_type": "code",
      "source": "management_plane_rows = [\"Job/task crash/hang\",\"Reduced observability\", \"Unexpected Behaviour\", \"Performance issue\"]\nfreq = list()\nfor consequence in management_plane_rows:\n    freq.append(plane_to_consequences[\"Management\"][consequence])\nmanagement_plane_table = pd.DataFrame([management_plane_rows, freq]).transpose()\nmanagement_plane_table.columns = ['Impact','#']\n\nmanagement_plane_table",
      "metadata": {
        "trusted": true
      },
      "execution_count": 8,
      "outputs": [
        {
          "execution_count": 8,
          "output_type": "execute_result",
          "data": {
            "text/plain": "                  Impact   #\n0    Job/task crash/hang  24\n1  Reduced observability   8\n2   Unexpected Behaviour   5\n3      Performance issue   2",
            "text/html": "<div>\n<style scoped>\n    .dataframe tbody tr th:only-of-type {\n        vertical-align: middle;\n    }\n\n    .dataframe tbody tr th {\n        vertical-align: top;\n    }\n\n    .dataframe thead th {\n        text-align: right;\n    }\n</style>\n<table border=\"1\" class=\"dataframe\">\n  <thead>\n    <tr style=\"text-align: right;\">\n      <th></th>\n      <th>Impact</th>\n      <th>#</th>\n    </tr>\n  </thead>\n  <tbody>\n    <tr>\n      <th>0</th>\n      <td>Job/task crash/hang</td>\n      <td>24</td>\n    </tr>\n    <tr>\n      <th>1</th>\n      <td>Reduced observability</td>\n      <td>8</td>\n    </tr>\n    <tr>\n      <th>2</th>\n      <td>Unexpected Behaviour</td>\n      <td>5</td>\n    </tr>\n    <tr>\n      <th>3</th>\n      <td>Performance issue</td>\n      <td>2</td>\n    </tr>\n  </tbody>\n</table>\n</div>"
          },
          "metadata": {}
        }
      ]
    },
    {
      "cell_type": "code",
      "source": "planes =  list(df['Failure Plane'])\ndiscrepancies = list(df['Discrepancy pattern type'])\ndiscrepancy_to_count = defaultdict(lambda: defaultdict(int))\nfor plane, discrepancy in list(zip(planes, discrepancies)):\n    discrepancy_to_count[plane][discrepancy] += 1\ndata_plane_discrepancy_rows = [\"Type Confusion\", \"Unsupported Operations\",\"Unspoken Convention\", \"Undefined Values\", \"Wrong API Assumptions\"]\nfreq = list()\nfor discrepancy in data_plane_discrepancy_rows:\n    freq.append(discrepancy_to_count[\"Data\"][discrepancy])\ntable6 = pd.DataFrame([data_plane_discrepancy_rows, freq]).transpose()\ntable6.columns = ['Discrepancy Pattern','#']\n\ncontrol_plane_discrepancy_rows = [\"API Semantics Violation\", \"State/Resource Inconsistency\", \"Feature inconsistency\"]\nfreq = list()\nfor discrepancy in control_plane_discrepancy_rows:\n    freq.append(discrepancy_to_count[\"Control\"][discrepancy])\ntable7 = pd.DataFrame([control_plane_discrepancy_rows, freq]).transpose()\ntable7.columns = ['Discrepancy Pattern','#']\n\n\nmanagement_plane_discrepancy_rows = [\"Ignorance\", \"Unexpected Override\", \"Inconsistent Context\", \"Mishandling Configuration Value\"]\nfreq = list()\nfor discrepancy in management_plane_discrepancy_rows:\n    freq.append(discrepancy_to_count[\"Management\"][discrepancy])\ntable8 = pd.DataFrame([management_plane_discrepancy_rows, freq]).transpose()\ntable8.columns = ['Discrepancy Pattern','#']",
      "metadata": {
        "trusted": true
      },
      "execution_count": 9,
      "outputs": []
    },
    {
      "cell_type": "markdown",
      "source": "## Section 6.1: Table 6",
      "metadata": {}
    },
    {
      "cell_type": "code",
      "source": "table6",
      "metadata": {
        "trusted": true
      },
      "execution_count": 10,
      "outputs": [
        {
          "execution_count": 10,
          "output_type": "execute_result",
          "data": {
            "text/plain": "      Discrepancy Pattern   #\n0          Type Confusion  12\n1  Unsupported Operations  15\n2     Unspoken Convention   9\n3        Undefined Values   7\n4   Wrong API Assumptions  18",
            "text/html": "<div>\n<style scoped>\n    .dataframe tbody tr th:only-of-type {\n        vertical-align: middle;\n    }\n\n    .dataframe tbody tr th {\n        vertical-align: top;\n    }\n\n    .dataframe thead th {\n        text-align: right;\n    }\n</style>\n<table border=\"1\" class=\"dataframe\">\n  <thead>\n    <tr style=\"text-align: right;\">\n      <th></th>\n      <th>Discrepancy Pattern</th>\n      <th>#</th>\n    </tr>\n  </thead>\n  <tbody>\n    <tr>\n      <th>0</th>\n      <td>Type Confusion</td>\n      <td>12</td>\n    </tr>\n    <tr>\n      <th>1</th>\n      <td>Unsupported Operations</td>\n      <td>15</td>\n    </tr>\n    <tr>\n      <th>2</th>\n      <td>Unspoken Convention</td>\n      <td>9</td>\n    </tr>\n    <tr>\n      <th>3</th>\n      <td>Undefined Values</td>\n      <td>7</td>\n    </tr>\n    <tr>\n      <th>4</th>\n      <td>Wrong API Assumptions</td>\n      <td>18</td>\n    </tr>\n  </tbody>\n</table>\n</div>"
          },
          "metadata": {}
        }
      ]
    },
    {
      "cell_type": "markdown",
      "source": "## Section 6.2: Table 7",
      "metadata": {}
    },
    {
      "cell_type": "code",
      "source": "table7",
      "metadata": {
        "trusted": true
      },
      "execution_count": 11,
      "outputs": [
        {
          "execution_count": 11,
          "output_type": "execute_result",
          "data": {
            "text/plain": "            Discrepancy Pattern   #\n0       API Semantics Violation  13\n1  State/Resource Inconsistency   5\n2         Feature inconsistency   2",
            "text/html": "<div>\n<style scoped>\n    .dataframe tbody tr th:only-of-type {\n        vertical-align: middle;\n    }\n\n    .dataframe tbody tr th {\n        vertical-align: top;\n    }\n\n    .dataframe thead th {\n        text-align: right;\n    }\n</style>\n<table border=\"1\" class=\"dataframe\">\n  <thead>\n    <tr style=\"text-align: right;\">\n      <th></th>\n      <th>Discrepancy Pattern</th>\n      <th>#</th>\n    </tr>\n  </thead>\n  <tbody>\n    <tr>\n      <th>0</th>\n      <td>API Semantics Violation</td>\n      <td>13</td>\n    </tr>\n    <tr>\n      <th>1</th>\n      <td>State/Resource Inconsistency</td>\n      <td>5</td>\n    </tr>\n    <tr>\n      <th>2</th>\n      <td>Feature inconsistency</td>\n      <td>2</td>\n    </tr>\n  </tbody>\n</table>\n</div>"
          },
          "metadata": {}
        }
      ]
    },
    {
      "cell_type": "markdown",
      "source": "## Section 6.1: Table 8",
      "metadata": {}
    },
    {
      "cell_type": "code",
      "source": "table8",
      "metadata": {
        "trusted": true
      },
      "execution_count": 12,
      "outputs": [
        {
          "execution_count": 12,
          "output_type": "execute_result",
          "data": {
            "text/plain": "               Discrepancy Pattern   #\n0                        Ignorance  12\n1              Unexpected Override   6\n2             Inconsistent Context  10\n3  Mishandling Configuration Value   2",
            "text/html": "<div>\n<style scoped>\n    .dataframe tbody tr th:only-of-type {\n        vertical-align: middle;\n    }\n\n    .dataframe tbody tr th {\n        vertical-align: top;\n    }\n\n    .dataframe thead th {\n        text-align: right;\n    }\n</style>\n<table border=\"1\" class=\"dataframe\">\n  <thead>\n    <tr style=\"text-align: right;\">\n      <th></th>\n      <th>Discrepancy Pattern</th>\n      <th>#</th>\n    </tr>\n  </thead>\n  <tbody>\n    <tr>\n      <th>0</th>\n      <td>Ignorance</td>\n      <td>12</td>\n    </tr>\n    <tr>\n      <th>1</th>\n      <td>Unexpected Override</td>\n      <td>6</td>\n    </tr>\n    <tr>\n      <th>2</th>\n      <td>Inconsistent Context</td>\n      <td>10</td>\n    </tr>\n    <tr>\n      <th>3</th>\n      <td>Mishandling Configuration Value</td>\n      <td>2</td>\n    </tr>\n  </tbody>\n</table>\n</div>"
          },
          "metadata": {}
        }
      ]
    },
    {
      "cell_type": "markdown",
      "source": "## Section 7: Table 9",
      "metadata": {}
    },
    {
      "cell_type": "code",
      "source": "fix_patterns = list(df['Fix: Pattern'])\ntable9_rows = [\"Checking\", \"Error handling\", \"Interaction\", \"Others\"]\nfix_pattern_to_count = defaultdict(int)\nfor pattern in fix_patterns:\n    fix_pattern_to_count[pattern] += 1\n\nfreq = list()\nfor pattern in table9_rows:\n    freq.append(fix_pattern_to_count[pattern])\n\ntable9 = pd.DataFrame([table9_rows, freq]).transpose()\ntable9.columns = ['Fix Pattern','#']\ntable9",
      "metadata": {
        "trusted": true
      },
      "execution_count": 13,
      "outputs": [
        {
          "execution_count": 13,
          "output_type": "execute_result",
          "data": {
            "text/plain": "      Fix Pattern   #\n0        Checking  38\n1  Error handling   8\n2     Interaction  69\n3          Others   5",
            "text/html": "<div>\n<style scoped>\n    .dataframe tbody tr th:only-of-type {\n        vertical-align: middle;\n    }\n\n    .dataframe tbody tr th {\n        vertical-align: top;\n    }\n\n    .dataframe thead th {\n        text-align: right;\n    }\n</style>\n<table border=\"1\" class=\"dataframe\">\n  <thead>\n    <tr style=\"text-align: right;\">\n      <th></th>\n      <th>Fix Pattern</th>\n      <th>#</th>\n    </tr>\n  </thead>\n  <tbody>\n    <tr>\n      <th>0</th>\n      <td>Checking</td>\n      <td>38</td>\n    </tr>\n    <tr>\n      <th>1</th>\n      <td>Error handling</td>\n      <td>8</td>\n    </tr>\n    <tr>\n      <th>2</th>\n      <td>Interaction</td>\n      <td>69</td>\n    </tr>\n    <tr>\n      <th>3</th>\n      <td>Others</td>\n      <td>5</td>\n    </tr>\n  </tbody>\n</table>\n</div>"
          },
          "metadata": {}
        }
      ]
    },
    {
      "cell_type": "markdown",
      "source": "## Finding 13: In 69% (79/115) CSI failures, fixes were applied to code in the upstream system specific to interaction with a downstream system. Furthermore, among these 79 cases, fixes for 68 (86%) cases resided in dedicated “connector” modules.",
      "metadata": {}
    },
    {
      "cell_type": "code",
      "source": "fix_locations = list(df['Fix: Location'])\nfix_location_to_count = defaultdict(int)\nfor location in fix_locations:\n    fix_location_to_count[location.strip()] += 1\ncode_specific_to_interaction_connector = fix_location_to_count[\"Code specific to downstream interaction: Connector\"]\ncode_specific_to_interaction_scattered = fix_location_to_count[\"Code specific to downstream interaction: Scattered\"]\ncode_specific_to_interaction = code_specific_to_interaction_connector + code_specific_to_interaction_scattered\nno_fix_or_documentation = fix_location_to_count[\"N.A.\"]\ntotal_fixes = len(fix_locations) - no_fix_or_documentation\nprint(\"Fixes applied to code in the upstream system specific to interaction \" \\\n      \"with a downstream system: %s (%s%%)\" % (code_specific_to_interaction, round(code_specific_to_interaction/total_fixes * 100, 2)))\nprint(\"Fixes applied to code in the upstream system \" \\\n      \"in dedicated 'connector' modules: %s (%s%%)\" % (code_specific_to_interaction_connector, round(code_specific_to_interaction_connector/total_fixes * 100, 2)))",
      "metadata": {
        "trusted": true
      },
      "execution_count": 14,
      "outputs": [
        {
          "name": "stdout",
          "text": "Fixes applied to code in the upstream system specific to interaction with a downstream system: 79 (68.7%)\nFixes applied to code in the upstream system in dedicated 'connector' modules: 68 (59.13%)\n",
          "output_type": "stream"
        }
      ]
    }
  ]
}